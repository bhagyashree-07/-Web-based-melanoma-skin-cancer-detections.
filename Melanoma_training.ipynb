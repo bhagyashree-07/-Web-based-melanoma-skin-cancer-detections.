{
 "cells": [
  {
   "cell_type": "code",
   "execution_count": 1,
   "id": "c1262617",
   "metadata": {},
   "outputs": [],
   "source": [
    "import pandas as pd\n",
    "import numpy as np"
   ]
  },
  {
   "cell_type": "code",
   "execution_count": 2,
   "id": "ab254fd5",
   "metadata": {},
   "outputs": [],
   "source": [
    "path='C:/Users/omkar/OneDrive/Desktop/drive/My drive/input/hmnist_28_28_RGB.csv'"
   ]
  },
  {
   "cell_type": "code",
   "execution_count": 3,
   "id": "9d1fc94b",
   "metadata": {},
   "outputs": [],
   "source": [
    "df = pd.read_csv(path)"
   ]
  },
  {
   "cell_type": "code",
   "execution_count": 4,
   "id": "57833340",
   "metadata": {
    "scrolled": true
   },
   "outputs": [
    {
     "data": {
      "text/html": [
       "<div>\n",
       "<style scoped>\n",
       "    .dataframe tbody tr th:only-of-type {\n",
       "        vertical-align: middle;\n",
       "    }\n",
       "\n",
       "    .dataframe tbody tr th {\n",
       "        vertical-align: top;\n",
       "    }\n",
       "\n",
       "    .dataframe thead th {\n",
       "        text-align: right;\n",
       "    }\n",
       "</style>\n",
       "<table border=\"1\" class=\"dataframe\">\n",
       "  <thead>\n",
       "    <tr style=\"text-align: right;\">\n",
       "      <th></th>\n",
       "      <th>pixel0000</th>\n",
       "      <th>pixel0001</th>\n",
       "      <th>pixel0002</th>\n",
       "      <th>pixel0003</th>\n",
       "      <th>pixel0004</th>\n",
       "      <th>pixel0005</th>\n",
       "      <th>pixel0006</th>\n",
       "      <th>pixel0007</th>\n",
       "      <th>pixel0008</th>\n",
       "      <th>pixel0009</th>\n",
       "      <th>...</th>\n",
       "      <th>pixel2343</th>\n",
       "      <th>pixel2344</th>\n",
       "      <th>pixel2345</th>\n",
       "      <th>pixel2346</th>\n",
       "      <th>pixel2347</th>\n",
       "      <th>pixel2348</th>\n",
       "      <th>pixel2349</th>\n",
       "      <th>pixel2350</th>\n",
       "      <th>pixel2351</th>\n",
       "      <th>label</th>\n",
       "    </tr>\n",
       "  </thead>\n",
       "  <tbody>\n",
       "    <tr>\n",
       "      <th>10010</th>\n",
       "      <td>183</td>\n",
       "      <td>165</td>\n",
       "      <td>181</td>\n",
       "      <td>182</td>\n",
       "      <td>165</td>\n",
       "      <td>180</td>\n",
       "      <td>184</td>\n",
       "      <td>166</td>\n",
       "      <td>182</td>\n",
       "      <td>188</td>\n",
       "      <td>...</td>\n",
       "      <td>208</td>\n",
       "      <td>185</td>\n",
       "      <td>187</td>\n",
       "      <td>208</td>\n",
       "      <td>186</td>\n",
       "      <td>186</td>\n",
       "      <td>206</td>\n",
       "      <td>187</td>\n",
       "      <td>189</td>\n",
       "      <td>0</td>\n",
       "    </tr>\n",
       "    <tr>\n",
       "      <th>10011</th>\n",
       "      <td>2</td>\n",
       "      <td>3</td>\n",
       "      <td>1</td>\n",
       "      <td>38</td>\n",
       "      <td>33</td>\n",
       "      <td>32</td>\n",
       "      <td>121</td>\n",
       "      <td>104</td>\n",
       "      <td>103</td>\n",
       "      <td>132</td>\n",
       "      <td>...</td>\n",
       "      <td>96</td>\n",
       "      <td>79</td>\n",
       "      <td>76</td>\n",
       "      <td>24</td>\n",
       "      <td>23</td>\n",
       "      <td>21</td>\n",
       "      <td>3</td>\n",
       "      <td>4</td>\n",
       "      <td>1</td>\n",
       "      <td>0</td>\n",
       "    </tr>\n",
       "    <tr>\n",
       "      <th>10012</th>\n",
       "      <td>132</td>\n",
       "      <td>118</td>\n",
       "      <td>118</td>\n",
       "      <td>167</td>\n",
       "      <td>149</td>\n",
       "      <td>149</td>\n",
       "      <td>175</td>\n",
       "      <td>156</td>\n",
       "      <td>160</td>\n",
       "      <td>184</td>\n",
       "      <td>...</td>\n",
       "      <td>204</td>\n",
       "      <td>181</td>\n",
       "      <td>178</td>\n",
       "      <td>181</td>\n",
       "      <td>159</td>\n",
       "      <td>153</td>\n",
       "      <td>172</td>\n",
       "      <td>151</td>\n",
       "      <td>145</td>\n",
       "      <td>0</td>\n",
       "    </tr>\n",
       "    <tr>\n",
       "      <th>10013</th>\n",
       "      <td>160</td>\n",
       "      <td>124</td>\n",
       "      <td>146</td>\n",
       "      <td>164</td>\n",
       "      <td>131</td>\n",
       "      <td>152</td>\n",
       "      <td>167</td>\n",
       "      <td>127</td>\n",
       "      <td>146</td>\n",
       "      <td>169</td>\n",
       "      <td>...</td>\n",
       "      <td>185</td>\n",
       "      <td>162</td>\n",
       "      <td>167</td>\n",
       "      <td>184</td>\n",
       "      <td>157</td>\n",
       "      <td>166</td>\n",
       "      <td>185</td>\n",
       "      <td>162</td>\n",
       "      <td>172</td>\n",
       "      <td>0</td>\n",
       "    </tr>\n",
       "    <tr>\n",
       "      <th>10014</th>\n",
       "      <td>175</td>\n",
       "      <td>142</td>\n",
       "      <td>121</td>\n",
       "      <td>181</td>\n",
       "      <td>150</td>\n",
       "      <td>134</td>\n",
       "      <td>181</td>\n",
       "      <td>150</td>\n",
       "      <td>133</td>\n",
       "      <td>178</td>\n",
       "      <td>...</td>\n",
       "      <td>159</td>\n",
       "      <td>79</td>\n",
       "      <td>82</td>\n",
       "      <td>174</td>\n",
       "      <td>137</td>\n",
       "      <td>125</td>\n",
       "      <td>175</td>\n",
       "      <td>139</td>\n",
       "      <td>126</td>\n",
       "      <td>6</td>\n",
       "    </tr>\n",
       "  </tbody>\n",
       "</table>\n",
       "<p>5 rows × 2353 columns</p>\n",
       "</div>"
      ],
      "text/plain": [
       "       pixel0000  pixel0001  pixel0002  pixel0003  pixel0004  pixel0005  \\\n",
       "10010        183        165        181        182        165        180   \n",
       "10011          2          3          1         38         33         32   \n",
       "10012        132        118        118        167        149        149   \n",
       "10013        160        124        146        164        131        152   \n",
       "10014        175        142        121        181        150        134   \n",
       "\n",
       "       pixel0006  pixel0007  pixel0008  pixel0009  ...  pixel2343  pixel2344  \\\n",
       "10010        184        166        182        188  ...        208        185   \n",
       "10011        121        104        103        132  ...         96         79   \n",
       "10012        175        156        160        184  ...        204        181   \n",
       "10013        167        127        146        169  ...        185        162   \n",
       "10014        181        150        133        178  ...        159         79   \n",
       "\n",
       "       pixel2345  pixel2346  pixel2347  pixel2348  pixel2349  pixel2350  \\\n",
       "10010        187        208        186        186        206        187   \n",
       "10011         76         24         23         21          3          4   \n",
       "10012        178        181        159        153        172        151   \n",
       "10013        167        184        157        166        185        162   \n",
       "10014         82        174        137        125        175        139   \n",
       "\n",
       "       pixel2351  label  \n",
       "10010        189      0  \n",
       "10011          1      0  \n",
       "10012        145      0  \n",
       "10013        172      0  \n",
       "10014        126      6  \n",
       "\n",
       "[5 rows x 2353 columns]"
      ]
     },
     "execution_count": 4,
     "metadata": {},
     "output_type": "execute_result"
    }
   ],
   "source": [
    "df.tail()\n"
   ]
  },
  {
   "cell_type": "code",
   "execution_count": 5,
   "id": "2539eed0",
   "metadata": {},
   "outputs": [],
   "source": [
    "fractions=np.array([0.8,0.2])\n",
    "df=df.sample(frac=1)\n",
    "train_set, test_set = np.array_split(\n",
    "    df, (fractions[:-1].cumsum() * len(df)).astype(int))"
   ]
  },
  {
   "cell_type": "code",
   "execution_count": 6,
   "id": "fe39a7d5",
   "metadata": {},
   "outputs": [
    {
     "name": "stdout",
     "output_type": "stream",
     "text": [
      "8012\n"
     ]
    }
   ],
   "source": [
    "print(len(train_set))"
   ]
  },
  {
   "cell_type": "code",
   "execution_count": 7,
   "id": "82e834ae",
   "metadata": {},
   "outputs": [
    {
     "name": "stdout",
     "output_type": "stream",
     "text": [
      "2003\n"
     ]
    }
   ],
   "source": [
    "print(len(test_set))"
   ]
  },
  {
   "cell_type": "code",
   "execution_count": 8,
   "id": "433af3f6",
   "metadata": {},
   "outputs": [
    {
     "data": {
      "text/plain": [
       "array([1, 4, 0, 2, 6, 5, 3], dtype=int64)"
      ]
     },
     "execution_count": 8,
     "metadata": {},
     "output_type": "execute_result"
    }
   ],
   "source": [
    "df.label.unique()"
   ]
  },
  {
   "cell_type": "code",
   "execution_count": 9,
   "id": "5d5b2406",
   "metadata": {},
   "outputs": [],
   "source": [
    "classes={0:('actinic keratoses and intraepithelial carcinomae(Cancer)'),\n",
    "         1:('basal cell carcinoma(Cancer)'),\n",
    "         2:('benign keratosis-like lesions(Non-Cancerous)'),\n",
    "         3:('dermatofibroma(Non-Cancerous)'),\n",
    "         4:('melanocytic nevi(Non-Cancerous)'),\n",
    "         5:('pyogenic granulomas and hemorrhage(Can lead to cancer)'),\n",
    "         6:('melanoma(Cancer)')}\n"
   ]
  },
  {
   "cell_type": "code",
   "execution_count": 10,
   "id": "d442f7c1",
   "metadata": {},
   "outputs": [],
   "source": [
    "y_train = train_set['label']\n",
    "x_train = train_set.drop(columns=['label'])\n",
    "y_test = test_set['label']\n",
    "x_test = test_set.drop(columns=['label'])\n"
   ]
  },
  {
   "cell_type": "code",
   "execution_count": 11,
   "id": "035f47e7",
   "metadata": {},
   "outputs": [
    {
     "name": "stderr",
     "output_type": "stream",
     "text": [
      "c:\\users\\omkar\\appdata\\local\\programs\\python\\python37\\lib\\site-packages\\seaborn\\_decorators.py:43: FutureWarning: Pass the following variable as a keyword arg: x. From version 0.12, the only valid positional argument will be `data`, and passing other arguments without an explicit keyword will result in an error or misinterpretation.\n",
      "  FutureWarning\n"
     ]
    },
    {
     "data": {
      "text/plain": [
       "<AxesSubplot:xlabel='label', ylabel='count'>"
      ]
     },
     "execution_count": 11,
     "metadata": {},
     "output_type": "execute_result"
    },
    {
     "data": {
      "image/png": "[encoded data removed]",
      "text/plain": [
       "<Figure size 432x288 with 1 Axes>"
      ]
     },
     "metadata": {
      "needs_background": "light"
     },
     "output_type": "display_data"
    }
   ],
   "source": [
    "import seaborn as sns\n",
    "sns.countplot(train_set['label'])"
   ]
  },
  {
   "cell_type": "code",
   "execution_count": 12,
   "id": "dcf8e4b3",
   "metadata": {},
   "outputs": [],
   "source": [
    "from imblearn.over_sampling import RandomOverSampler \n",
    "oversample = RandomOverSampler()\n",
    "x_train,y_train  = oversample.fit_resample(x_train,y_train)"
   ]
  },
  {
   "cell_type": "code",
   "execution_count": 13,
   "id": "3522f645",
   "metadata": {},
   "outputs": [
    {
     "name": "stderr",
     "output_type": "stream",
     "text": [
      "c:\\users\\omkar\\appdata\\local\\programs\\python\\python37\\lib\\site-packages\\seaborn\\_decorators.py:43: FutureWarning: Pass the following variable as a keyword arg: x. From version 0.12, the only valid positional argument will be `data`, and passing other arguments without an explicit keyword will result in an error or misinterpretation.\n",
      "  FutureWarning\n"
     ]
    },
    {
     "data": {
      "text/plain": [
       "<AxesSubplot:xlabel='label', ylabel='count'>"
      ]
     },
     "execution_count": 13,
     "metadata": {},
     "output_type": "execute_result"
    },
    {
     "data": {
      "image/png": "[encoded data removed]",
      "text/plain": [
       "<Figure size 432x288 with 1 Axes>"
      ]
     },
     "metadata": {
      "needs_background": "light"
     },
     "output_type": "display_data"
    }
   ],
   "source": [
    "sns.countplot(y_train)"
   ]
  },
  {
   "cell_type": "code",
   "execution_count": 14,
   "id": "bd34ab64",
   "metadata": {},
   "outputs": [
    {
     "name": "stdout",
     "output_type": "stream",
     "text": [
      "Number of  actinic keratoses and intraepithelial carcinomae(Cancer) images:  5401\n",
      "Number of  basal cell carcinoma(Cancer) images:  5401\n",
      "Number of  benign keratosis-like lesions(Non-Cancerous) images:  5401\n",
      "Number of  dermatofibroma(Non-Cancerous) images:  5401\n",
      "Number of  melanocytic nevi(Non-Cancerous) images:  5401\n",
      "Number of  pyogenic granulomas and hemorrhage(Can lead to cancer) images:  5401\n",
      "Number of  melanoma(Cancer) images:  5401\n"
     ]
    }
   ],
   "source": [
    "for k in range(7):\n",
    "  print(\"Number of \", classes[k],\"images: \", len([i for i in y_train if i==k]))"
   ]
  },
  {
   "cell_type": "code",
   "execution_count": 15,
   "id": "50ed90db",
   "metadata": {},
   "outputs": [
    {
     "data": {
      "image/png": "[encoded data removed]",
      "text/plain": [
       "<Figure size 432x288 with 1 Axes>"
      ]
     },
     "metadata": {
      "needs_background": "light"
     },
     "output_type": "display_data"
    },
    {
     "data": {
      "image/png": "[encoded data removed]",
      "text/plain": [
       "<Figure size 432x288 with 1 Axes>"
      ]
     },
     "metadata": {
      "needs_background": "light"
     },
     "output_type": "display_data"
    },
    {
     "data": {
      "image/png": "[encoded data removed]",
      "text/plain": [
       "<Figure size 432x288 with 1 Axes>"
      ]
     },
     "metadata": {
      "needs_background": "light"
     },
     "output_type": "display_data"
    }
   ],
   "source": [
    "import matplotlib.pyplot as plt\n",
    "import random\n",
    "x_train = np.array(x_train, dtype=np.uint8).reshape(-1, 28, 28, 3)\n",
    "for _ in range(3):\n",
    "  num = random.randint(0, 8000)\n",
    "  plt.imshow(x_train[num].reshape(28, 28, 3))\n",
    "  plt.title(classes[y_train[num]])\n",
    "  plt.show()\n"
   ]
  },
  {
   "cell_type": "code",
   "execution_count": 16,
   "id": "aded760c",
   "metadata": {},
   "outputs": [],
   "source": [
    "from tensorflow.keras.models import Sequential\n",
    "from tensorflow.keras.layers import Conv2D, Flatten, Dense, MaxPool2D\n",
    "import tensorflow as tf"
   ]
  },
  {
   "cell_type": "code",
   "execution_count": 17,
   "id": "4210fa0f",
   "metadata": {},
   "outputs": [
    {
     "name": "stdout",
     "output_type": "stream",
     "text": [
      "Model: \"sequential\"\n",
      "_________________________________________________________________\n",
      "Layer (type)                 Output Shape              Param #   \n",
      "=================================================================\n",
      "conv2d (Conv2D)              (None, 28, 28, 16)        448       \n",
      "_________________________________________________________________\n",
      "max_pooling2d (MaxPooling2D) (None, 14, 14, 16)        0         \n",
      "_________________________________________________________________\n",
      "batch_normalization (BatchNo (None, 14, 14, 16)        64        \n",
      "_________________________________________________________________\n",
      "conv2d_1 (Conv2D)            (None, 12, 12, 32)        4640      \n",
      "_________________________________________________________________\n",
      "conv2d_2 (Conv2D)            (None, 10, 10, 64)        18496     \n",
      "_________________________________________________________________\n",
      "max_pooling2d_1 (MaxPooling2 (None, 5, 5, 64)          0         \n",
      "_________________________________________________________________\n",
      "batch_normalization_1 (Batch (None, 5, 5, 64)          256       \n",
      "_________________________________________________________________\n",
      "conv2d_3 (Conv2D)            (None, 3, 3, 128)         73856     \n",
      "_________________________________________________________________\n",
      "conv2d_4 (Conv2D)            (None, 1, 1, 256)         295168    \n",
      "_________________________________________________________________\n",
      "flatten (Flatten)            (None, 256)               0         \n",
      "_________________________________________________________________\n",
      "dropout (Dropout)            (None, 256)               0         \n",
      "_________________________________________________________________\n",
      "dense (Dense)                (None, 256)               65792     \n",
      "_________________________________________________________________\n",
      "batch_normalization_2 (Batch (None, 256)               1024      \n",
      "_________________________________________________________________\n",
      "dropout_1 (Dropout)          (None, 256)               0         \n",
      "_________________________________________________________________\n",
      "dense_1 (Dense)              (None, 128)               32896     \n",
      "_________________________________________________________________\n",
      "batch_normalization_3 (Batch (None, 128)               512       \n",
      "_________________________________________________________________\n",
      "dense_2 (Dense)              (None, 64)                8256      \n",
      "_________________________________________________________________\n",
      "batch_normalization_4 (Batch (None, 64)                256       \n",
      "_________________________________________________________________\n",
      "dropout_2 (Dropout)          (None, 64)                0         \n",
      "_________________________________________________________________\n",
      "dense_3 (Dense)              (None, 32)                2080      \n",
      "_________________________________________________________________\n",
      "batch_normalization_5 (Batch (None, 32)                128       \n",
      "_________________________________________________________________\n",
      "dense_4 (Dense)              (None, 7)                 231       \n",
      "=================================================================\n",
      "Total params: 504,103\n",
      "Trainable params: 502,983\n",
      "Non-trainable params: 1,120\n",
      "_________________________________________________________________\n"
     ]
    }
   ],
   "source": [
    "model = Sequential()\n",
    "model.add(Conv2D(16, kernel_size=(3,3), input_shape=(28, 28, 3), activation='relu', padding='same'))\n",
    "model.add(MaxPool2D(pool_size=(2,2)))\n",
    "model.add(tf.keras.layers.BatchNormalization())\n",
    "model.add(Conv2D(32, kernel_size=(3,3), activation='relu'))\n",
    "model.add(Conv2D(64, kernel_size=(3,3), activation='relu'))\n",
    "model.add(MaxPool2D(pool_size=(2,2)))\n",
    "model.add(tf.keras.layers.BatchNormalization())\n",
    "model.add(Conv2D(128, kernel_size=(3,3), activation='relu'))\n",
    "model.add(Conv2D(256, kernel_size=(3,3), activation='relu'))\n",
    "model.add(Flatten())\n",
    "model.add(tf.keras.layers.Dropout(0.2))\n",
    "model.add(Dense(256,activation='relu'))\n",
    "model.add(tf.keras.layers.BatchNormalization())\n",
    "model.add(tf.keras.layers.Dropout(0.2))\n",
    "model.add(Dense(128,activation='relu'))\n",
    "model.add(tf.keras.layers.BatchNormalization())\n",
    "model.add(Dense(64,activation='relu'))\n",
    "model.add(tf.keras.layers.BatchNormalization())\n",
    "model.add(tf.keras.layers.Dropout(0.2))\n",
    "model.add(Dense(32,activation='relu'))\n",
    "model.add(tf.keras.layers.BatchNormalization())\n",
    "model.add(Dense(7,activation='softmax'))\n",
    "\n",
    "model.summary()"
   ]
  },
  {
   "cell_type": "code",
   "execution_count": 18,
   "id": "61d84b55",
   "metadata": {},
   "outputs": [],
   "source": [
    "#Checkpoint\n",
    "callback = tf.keras.callbacks.ModelCheckpoint('C:/Users/omkar/OneDrive/Desktop/drive/My drive/input/.ipynb_checkpoints/model-{epoch:3d}.hdf5', monitor='val_accuracy', mode='auto', verbose=0, save_best_only=True)\n"
   ]
  },
  {
   "cell_type": "code",
   "execution_count": 19,
   "id": "30ba9302",
   "metadata": {},
   "outputs": [
    {
     "name": "stderr",
     "output_type": "stream",
     "text": [
      "c:\\users\\omkar\\appdata\\local\\programs\\python\\python37\\lib\\site-packages\\keras\\optimizer_v2\\optimizer_v2.py:356: UserWarning: The `lr` argument is deprecated, use `learning_rate` instead.\n",
      "  \"The `lr` argument is deprecated, use `learning_rate` instead.\")\n"
     ]
    },
    {
     "name": "stdout",
     "output_type": "stream",
     "text": [
      "Epoch 1/50\n",
      "237/237 [==============================] - 27s 99ms/step - loss: 1.3319 - accuracy: 0.5248 - val_loss: 2.6298 - val_accuracy: 0.0897\n",
      "Epoch 2/50\n",
      "237/237 [==============================] - 23s 95ms/step - loss: 0.4408 - accuracy: 0.8576 - val_loss: 1.8830 - val_accuracy: 0.3038\n",
      "Epoch 3/50\n",
      "237/237 [==============================] - 23s 98ms/step - loss: 0.2761 - accuracy: 0.9067 - val_loss: 1.1523 - val_accuracy: 0.5603\n",
      "Epoch 4/50\n",
      "237/237 [==============================] - 20s 86ms/step - loss: 0.2131 - accuracy: 0.9276 - val_loss: 1.3305 - val_accuracy: 0.4660\n",
      "Epoch 5/50\n",
      "237/237 [==============================] - 24s 100ms/step - loss: 0.1911 - accuracy: 0.9345 - val_loss: 1.3463 - val_accuracy: 0.4441\n",
      "Epoch 6/50\n",
      "237/237 [==============================] - 21s 90ms/step - loss: 0.1376 - accuracy: 0.9523 - val_loss: 0.7028 - val_accuracy: 0.6854\n",
      "Epoch 7/50\n",
      "237/237 [==============================] - 21s 89ms/step - loss: 0.1135 - accuracy: 0.9613 - val_loss: 1.1539 - val_accuracy: 0.5578\n",
      "Epoch 8/50\n",
      "237/237 [==============================] - 23s 97ms/step - loss: 0.1099 - accuracy: 0.9627 - val_loss: 0.6419 - val_accuracy: 0.7006\n",
      "Epoch 9/50\n",
      "237/237 [==============================] - 26s 108ms/step - loss: 0.0977 - accuracy: 0.9664 - val_loss: 0.5834 - val_accuracy: 0.7604\n",
      "Epoch 10/50\n",
      "237/237 [==============================] - 25s 106ms/step - loss: 0.0803 - accuracy: 0.9719 - val_loss: 0.4083 - val_accuracy: 0.8428\n",
      "Epoch 11/50\n",
      "237/237 [==============================] - 26s 110ms/step - loss: 0.0912 - accuracy: 0.9693 - val_loss: 0.7669 - val_accuracy: 0.7474\n",
      "Epoch 12/50\n",
      "237/237 [==============================] - 27s 114ms/step - loss: 0.0712 - accuracy: 0.9769 - val_loss: 0.7315 - val_accuracy: 0.6993\n",
      "Epoch 13/50\n",
      "237/237 [==============================] - 23s 96ms/step - loss: 0.0606 - accuracy: 0.9798 - val_loss: 0.3502 - val_accuracy: 0.8508\n",
      "Epoch 14/50\n",
      "237/237 [==============================] - 22s 93ms/step - loss: 0.0671 - accuracy: 0.9775 - val_loss: 0.6142 - val_accuracy: 0.8131\n",
      "Epoch 15/50\n",
      "237/237 [==============================] - 22s 95ms/step - loss: 0.0541 - accuracy: 0.9827 - val_loss: 0.8741 - val_accuracy: 0.6576\n",
      "Epoch 16/50\n",
      "237/237 [==============================] - 24s 103ms/step - loss: 0.0395 - accuracy: 0.9866 - val_loss: 0.2410 - val_accuracy: 0.9094\n",
      "Epoch 17/50\n",
      "237/237 [==============================] - 26s 111ms/step - loss: 0.0626 - accuracy: 0.9795 - val_loss: 0.2824 - val_accuracy: 0.9048\n",
      "Epoch 18/50\n",
      "237/237 [==============================] - 26s 108ms/step - loss: 0.0374 - accuracy: 0.9874 - val_loss: 0.2147 - val_accuracy: 0.9249\n",
      "Epoch 19/50\n",
      "237/237 [==============================] - 25s 106ms/step - loss: 0.0375 - accuracy: 0.9873 - val_loss: 0.2308 - val_accuracy: 0.9136\n",
      "Epoch 20/50\n",
      "237/237 [==============================] - 24s 103ms/step - loss: 0.0397 - accuracy: 0.9868 - val_loss: 0.1349 - val_accuracy: 0.9595\n",
      "Epoch 21/50\n",
      "237/237 [==============================] - 26s 109ms/step - loss: 0.0405 - accuracy: 0.9865 - val_loss: 0.3611 - val_accuracy: 0.8576\n",
      "Epoch 22/50\n",
      "237/237 [==============================] - 25s 105ms/step - loss: 0.0332 - accuracy: 0.9899 - val_loss: 0.1388 - val_accuracy: 0.9511\n",
      "Epoch 23/50\n",
      "237/237 [==============================] - 29s 123ms/step - loss: 0.0296 - accuracy: 0.9905 - val_loss: 0.6813 - val_accuracy: 0.7756\n",
      "Epoch 24/50\n",
      "237/237 [==============================] - 25s 106ms/step - loss: 0.0360 - accuracy: 0.9885 - val_loss: 0.1578 - val_accuracy: 0.9468\n",
      "Epoch 25/50\n",
      "237/237 [==============================] - 24s 101ms/step - loss: 0.0249 - accuracy: 0.9924 - val_loss: 0.6314 - val_accuracy: 0.8060\n",
      "Epoch 26/50\n",
      "237/237 [==============================] - 25s 104ms/step - loss: 0.0292 - accuracy: 0.9902 - val_loss: 0.2335 - val_accuracy: 0.9175\n",
      "Epoch 27/50\n",
      "237/237 [==============================] - 25s 105ms/step - loss: 0.0306 - accuracy: 0.9900 - val_loss: 0.9473 - val_accuracy: 0.7773\n",
      "Epoch 28/50\n",
      "237/237 [==============================] - 25s 107ms/step - loss: 0.0261 - accuracy: 0.9916 - val_loss: 0.0479 - val_accuracy: 0.9861\n",
      "Epoch 29/50\n",
      "237/237 [==============================] - 25s 103ms/step - loss: 0.0257 - accuracy: 0.9918 - val_loss: 0.2311 - val_accuracy: 0.9111\n",
      "Epoch 30/50\n",
      "237/237 [==============================] - 25s 104ms/step - loss: 0.0246 - accuracy: 0.9923 - val_loss: 0.4146 - val_accuracy: 0.8749\n",
      "Epoch 31/50\n",
      "237/237 [==============================] - 25s 106ms/step - loss: 0.0196 - accuracy: 0.9938 - val_loss: 0.0861 - val_accuracy: 0.9635\n",
      "Epoch 32/50\n",
      "237/237 [==============================] - 25s 104ms/step - loss: 0.0140 - accuracy: 0.9957 - val_loss: 0.0534 - val_accuracy: 0.9852\n",
      "Epoch 33/50\n",
      "237/237 [==============================] - 25s 106ms/step - loss: 0.0164 - accuracy: 0.9950 - val_loss: 0.6700 - val_accuracy: 0.8440\n",
      "Epoch 34/50\n",
      "237/237 [==============================] - 25s 107ms/step - loss: 0.0253 - accuracy: 0.9924 - val_loss: 0.0256 - val_accuracy: 0.9918\n",
      "Epoch 35/50\n",
      "237/237 [==============================] - 26s 108ms/step - loss: 0.0139 - accuracy: 0.9951 - val_loss: 0.2032 - val_accuracy: 0.9418\n",
      "Epoch 36/50\n",
      "237/237 [==============================] - 21s 88ms/step - loss: 0.0253 - accuracy: 0.9920 - val_loss: 0.3578 - val_accuracy: 0.9006\n",
      "Epoch 37/50\n",
      "237/237 [==============================] - 21s 89ms/step - loss: 0.0192 - accuracy: 0.9937 - val_loss: 0.2674 - val_accuracy: 0.9150\n",
      "Epoch 38/50\n",
      "237/237 [==============================] - 23s 99ms/step - loss: 0.0162 - accuracy: 0.9952 - val_loss: 0.1132 - val_accuracy: 0.9648\n",
      "Epoch 39/50\n",
      "237/237 [==============================] - 24s 103ms/step - loss: 0.0129 - accuracy: 0.9964 - val_loss: 0.7216 - val_accuracy: 0.8249\n",
      "Epoch 40/50\n",
      "237/237 [==============================] - 24s 103ms/step - loss: 0.0168 - accuracy: 0.9947 - val_loss: 0.0402 - val_accuracy: 0.9890\n",
      "Epoch 41/50\n",
      "237/237 [==============================] - 27s 113ms/step - loss: 0.0253 - accuracy: 0.9921 - val_loss: 0.1310 - val_accuracy: 0.9538\n",
      "Epoch 42/50\n",
      "237/237 [==============================] - 25s 107ms/step - loss: 0.0122 - accuracy: 0.9962 - val_loss: 0.2383 - val_accuracy: 0.9114\n",
      "Epoch 43/50\n",
      "237/237 [==============================] - 24s 101ms/step - loss: 0.0150 - accuracy: 0.9951 - val_loss: 0.9965 - val_accuracy: 0.7297\n",
      "Epoch 44/50\n",
      "237/237 [==============================] - 24s 100ms/step - loss: 0.0094 - accuracy: 0.9972 - val_loss: 0.1907 - val_accuracy: 0.9476\n",
      "Epoch 45/50\n",
      "237/237 [==============================] - 24s 101ms/step - loss: 0.0169 - accuracy: 0.9949 - val_loss: 0.1271 - val_accuracy: 0.9624\n",
      "Epoch 46/50\n",
      "237/237 [==============================] - 24s 100ms/step - loss: 0.0192 - accuracy: 0.9941 - val_loss: 0.4804 - val_accuracy: 0.8708\n",
      "Epoch 47/50\n",
      "237/237 [==============================] - 24s 103ms/step - loss: 0.0125 - accuracy: 0.9957 - val_loss: 0.6166 - val_accuracy: 0.8291\n",
      "Epoch 48/50\n",
      "237/237 [==============================] - 22s 91ms/step - loss: 0.0119 - accuracy: 0.9960 - val_loss: 0.4740 - val_accuracy: 0.8672\n",
      "Epoch 49/50\n",
      "237/237 [==============================] - 22s 93ms/step - loss: 0.0176 - accuracy: 0.9949 - val_loss: 0.6845 - val_accuracy: 0.8135\n",
      "Epoch 50/50\n",
      "237/237 [==============================] - 20s 83ms/step - loss: 0.0099 - accuracy: 0.9970 - val_loss: 0.0884 - val_accuracy: 0.9713\n"
     ]
    }
   ],
   "source": [
    "Optimizer = tf.keras.optimizers.Adam(lr=0.001)\n",
    "model.compile(loss='sparse_categorical_crossentropy', optimizer=Optimizer, metrics=['accuracy'])\n",
    "\n",
    "history = model.fit(x_train,\n",
    "                    y_train,\n",
    "                    validation_split=0.2,\n",
    "                    batch_size=128,\n",
    "                    epochs=50,\n",
    "                    shuffle=True,\n",
    "                    callbacks=[callback])"
   ]
  },
  {
   "cell_type": "code",
   "execution_count": 20,
   "id": "e46e8e37",
   "metadata": {},
   "outputs": [
    {
     "data": {
      "image/png": "[encoded data removed]",
      "text/plain": [
       "<Figure size 432x288 with 1 Axes>"
      ]
     },
     "metadata": {
      "needs_background": "light"
     },
     "output_type": "display_data"
    }
   ],
   "source": [
    "plt.plot(history.history['accuracy'])\n",
    "plt.plot(history.history['val_accuracy'])\n",
    "plt.title('Model Accuracy')\n",
    "plt.xlabel('Epoch')\n",
    "plt.ylabel('Accuracy')\n",
    "plt.legend(['train', 'val'], loc = 'upper left')\n",
    "plt.show()"
   ]
  },
  {
   "cell_type": "code",
   "execution_count": 21,
   "id": "c8d6dbc6",
   "metadata": {},
   "outputs": [
    {
     "data": {
      "image/png": "[encoded data removed]",
      "text/plain": [
       "<Figure size 432x288 with 1 Axes>"
      ]
     },
     "metadata": {
      "needs_background": "light"
     },
     "output_type": "display_data"
    }
   ],
   "source": [
    "plt.plot(history.history['loss'])\n",
    "plt.plot(history.history['val_loss'])\n",
    "plt.title('model loss')\n",
    "plt.ylabel('loss')\n",
    "plt.xlabel('epoch')\n",
    "plt.legend(['train', 'val'], loc='upper left')\n",
    "plt.show()"
   ]
  },
  {
   "cell_type": "code",
   "execution_count": 23,
   "id": "6a42f0a1",
   "metadata": {},
   "outputs": [],
   "source": [
    "model.load_weights('C:/Users/omkar/OneDrive/Desktop/drive/My drive/input/.ipynb_checkpoints/model- 34.hdf5')"
   ]
  },
  {
   "cell_type": "code",
   "execution_count": 24,
   "id": "7d7bb4d1",
   "metadata": {},
   "outputs": [
    {
     "name": "stdout",
     "output_type": "stream",
     "text": [
      "63/63 - 1s - loss: 1.4308 - accuracy: 0.7289\n"
     ]
    }
   ],
   "source": [
    "x_test = np.array(x_test).reshape(-1, 28, 28, 3)\n",
    "loss, acc = model.evaluate(x_test, y_test, verbose=2)"
   ]
  },
  {
   "cell_type": "code",
   "execution_count": 25,
   "id": "17bb9884",
   "metadata": {},
   "outputs": [
    {
     "name": "stdout",
     "output_type": "stream",
     "text": [
      "melanoma(Cancer)\n",
      "Confidence:  99.8236894607544 %\n"
     ]
    }
   ],
   "source": [
    "import PIL\n",
    "img = PIL.Image.open('C:/Users/omkar/OneDrive/Desktop/drive/My drive/input/TestImages/Malignant/ISIC_0033399.jpg')\n",
    "img = img.resize((28, 28))\n",
    "img = np.array(img).reshape(-1, 28, 28, 3)\n",
    "result = model.predict(img)\n",
    "\n",
    "# print(result[0])\n",
    "\n",
    "result=result.tolist()\n",
    "max_prob=max(result[0])\n",
    "class_ind=result[0].index(max_prob)\n",
    "print(classes[class_ind])\n",
    "print(\"Confidence: \", max(result[0])*100,\"%\")"
   ]
  },
  {
   "cell_type": "code",
   "execution_count": null,
   "id": "a8a8909f",
   "metadata": {},
   "outputs": [],
   "source": []
  },
  {
   "cell_type": "code",
   "execution_count": null,
   "id": "0cf52112",
   "metadata": {},
   "outputs": [],
   "source": []
  }
 ],
 "metadata": {
  "kernelspec": {
   "display_name": "Python 3",
   "language": "python",
   "name": "python3"
  },
  "language_info": {
   "codemirror_mode": {
    "name": "ipython",
    "version": 3
   },
   "file_extension": ".py",
   "mimetype": "text/x-python",
   "name": "python",
   "nbconvert_exporter": "python",
   "pygments_lexer": "ipython3",
   "version": "3.7.8"
  }
 },
 "nbformat": 4,
 "nbformat_minor": 5
}
